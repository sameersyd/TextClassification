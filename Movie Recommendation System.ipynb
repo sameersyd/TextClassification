{
 "cells": [
  {
   "cell_type": "code",
   "execution_count": 1,
   "metadata": {},
   "outputs": [],
   "source": [
    "import csv\n",
    "\n",
    "sizeOfSets = 100\n",
    "\n",
    "val = [None] * sizeOfSets\n",
    "\n",
    "reviewDatasetPath = r'/Users/sameernawaz/AnacondaProjects/Datasets/MovieRecommendationSystem/movie_reviews.data'\n",
    "with open(reviewDatasetPath) as csvfile:\n",
    "    lines = csv.reader(csvfile)\n",
    "    count = 0\n",
    "    for row in lines:\n",
    "        val[count] = row[0]\n",
    "        count = count + 1\n",
    "        if count >= sizeOfSets :\n",
    "            break"
   ]
  },
  {
   "cell_type": "code",
   "execution_count": 2,
   "metadata": {},
   "outputs": [],
   "source": [
    "import random\n",
    "\n",
    "revDataset = [None] * sizeOfSets\n",
    "\n",
    "for i in range(sizeOfSets):\n",
    "    my_string = val[i]\n",
    "    res = [x.strip() for x in my_string.split('\\t')]\n",
    "    listGenre = ['Thriller','Western','Melodrama','Screenplay','Fantasy','Suspense','Mystery']\n",
    "    res.append(random.choice(listGenre))\n",
    "    result = res\n",
    "    revDataset[i] = result"
   ]
  },
  {
   "cell_type": "code",
   "execution_count": 11,
   "metadata": {},
   "outputs": [],
   "source": [
    "# ['user_id', 'item_id', 'rating', 'timestamp', 'Genre']\n",
    "# for i in range(sizeOfSets):\n",
    "#     print(revDataset[i])"
   ]
  },
  {
   "cell_type": "code",
   "execution_count": 12,
   "metadata": {},
   "outputs": [],
   "source": [
    "#Average rating of a movie\n",
    "\n",
    "def getMovieAverageRating(item_id):\n",
    "    rating = 0\n",
    "    reviewsNum = 0\n",
    "    for i in range(sizeOfSets):\n",
    "        if revDataset[i][1] == item_id:\n",
    "            rating += int(revDataset[i][2])\n",
    "            reviewsNum += 1\n",
    "            \n",
    "    print(\"Ratings: \",rating)\n",
    "    print(\"Number Of Reviews: \",reviewsNum)\n",
    "    \n",
    "    if reviewsNum != 0:\n",
    "        return rating / reviewsNum\n",
    "    else:\n",
    "        return 0"
   ]
  },
  {
   "cell_type": "code",
   "execution_count": 15,
   "metadata": {},
   "outputs": [
    {
     "name": "stdout",
     "output_type": "stream",
     "text": [
      "['87', '1016', '4', '879876194', 'Screenplay']\n",
      "['276', '796', '1', '874791932', 'Melodrama']\n",
      "Ratings:  4\n",
      "Number Of Reviews:  1\n",
      "4.0\n"
     ]
    }
   ],
   "source": [
    "randValOne = random.choice(revDataset)\n",
    "randValTwo = random.choice(revDataset)\n",
    "print(randValOne)\n",
    "print(randValTwo)\n",
    "print(getMovieAverageRating(randValOne[1]))"
   ]
  },
  {
   "cell_type": "code",
   "execution_count": 14,
   "metadata": {},
   "outputs": [
    {
     "name": "stdout",
     "output_type": "stream",
     "text": [
      "0.7498213004921095\n"
     ]
    }
   ],
   "source": [
    "from scipy.spatial.distance import cosine\n",
    "from pandas import DataFrame\n",
    "\n",
    "randValOne = random.choice(revDataset)\n",
    "randValTwo = random.choice(revDataset)\n",
    "\n",
    "df = DataFrame({\"col1\": [158, 25, 180, 152, 96],\n",
    "                \"col2\": [173, 191, 33, 165, 108]})\n",
    "\n",
    "print(1 - cosine(df[\"col1\"], df[\"col2\"]))"
   ]
  },
  {
   "cell_type": "code",
   "execution_count": null,
   "metadata": {},
   "outputs": [],
   "source": []
  }
 ],
 "metadata": {
  "kernelspec": {
   "display_name": "Python 3",
   "language": "python",
   "name": "python3"
  },
  "language_info": {
   "codemirror_mode": {
    "name": "ipython",
    "version": 3
   },
   "file_extension": ".py",
   "mimetype": "text/x-python",
   "name": "python",
   "nbconvert_exporter": "python",
   "pygments_lexer": "ipython3",
   "version": "3.7.3"
  }
 },
 "nbformat": 4,
 "nbformat_minor": 2
}
