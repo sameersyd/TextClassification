{
 "cells": [
  {
   "cell_type": "code",
   "execution_count": 94,
   "metadata": {},
   "outputs": [],
   "source": [
    "import csv\n",
    "from sklearn.feature_extraction.text import TfidfVectorizer\n",
    "from sklearn.cluster import KMeans\n",
    "import numpy as np\n",
    "import pandas as pd"
   ]
  },
  {
   "cell_type": "code",
   "execution_count": 95,
   "metadata": {},
   "outputs": [],
   "source": [
    "def setDocumentContent():\n",
    "    with open('/Users/sameernawaz/AnacondaProjects/Datasets/trainingTextClassification.csv', 'r') as csv_file:\n",
    "        csv_reader = csv.reader(csv_file)\n",
    "        count = 0\n",
    "        for line in csv_reader:\n",
    "            val[count] = line\n",
    "            count = count + 1\n",
    "            if count >= sizeOfSets :\n",
    "                break\n",
    "            \n",
    "    countTemp = 0\n",
    "    for i in val:\n",
    "        document[countTemp] = i[5]\n",
    "        countTemp += 1"
   ]
  },
  {
   "cell_type": "code",
   "execution_count": 166,
   "metadata": {},
   "outputs": [],
   "source": [
    "sizeOfSets = 10000\n",
    "val = [None] * sizeOfSets\n",
    "document = [\"\"] * sizeOfSets\n",
    "\n",
    "setDocumentContent()"
   ]
  },
  {
   "cell_type": "code",
   "execution_count": 167,
   "metadata": {},
   "outputs": [],
   "source": [
    "vectorizer = TfidfVectorizer(stop_words='english')\n",
    "X = vectorizer.fit_transform(document)"
   ]
  },
  {
   "cell_type": "code",
   "execution_count": 168,
   "metadata": {},
   "outputs": [
    {
     "data": {
      "text/plain": [
       "KMeans(algorithm='auto', copy_x=True, init='k-means++', max_iter=100,\n",
       "       n_clusters=500, n_init=1, n_jobs=None, precompute_distances='auto',\n",
       "       random_state=None, tol=0.0001, verbose=0)"
      ]
     },
     "execution_count": 168,
     "metadata": {},
     "output_type": "execute_result"
    }
   ],
   "source": [
    "true_k = 500\n",
    "model = KMeans(n_clusters=true_k, init='k-means++', max_iter=100, n_init=1)\n",
    "model.fit(X)"
   ]
  },
  {
   "cell_type": "code",
   "execution_count": 169,
   "metadata": {},
   "outputs": [],
   "source": [
    "order_centroids = model.cluster_centers_.argsort()[:, ::-1]\n",
    "terms = vectorizer.get_feature_names()"
   ]
  },
  {
   "cell_type": "code",
   "execution_count": 170,
   "metadata": {},
   "outputs": [],
   "source": [
    "#Show Clustered models\n",
    "# for i in range(true_k):\n",
    "#     print(\"Cluster %d:\" % i),\n",
    "#     for ind in order_centroids[i, :10]:\n",
    "#         print(' %s' % terms[ind])"
   ]
  },
  {
   "cell_type": "code",
   "execution_count": 171,
   "metadata": {},
   "outputs": [
    {
     "name": "stdout",
     "output_type": "stream",
     "text": [
      "Prediction\n",
      "[303]\n"
     ]
    }
   ],
   "source": [
    "print(\"Prediction\")\n",
    "X = vectorizer.transform([\"New Year Celebration is going on!!!\"])\n",
    "predicted = model.predict(X)\n",
    "print(predicted)"
   ]
  },
  {
   "cell_type": "code",
   "execution_count": 172,
   "metadata": {},
   "outputs": [],
   "source": [
    "\n",
    "res = [[[None] * 2 ]] * sizeOfSets\n",
    "\n",
    "resCou = 0\n",
    "\n",
    "for i in document:\n",
    "    X = vectorizer.transform([i])\n",
    "    predicted = model.predict(X)\n",
    "    res[resCou] = [predicted,i]\n",
    "    resCou += 1"
   ]
  },
  {
   "cell_type": "code",
   "execution_count": 176,
   "metadata": {},
   "outputs": [
    {
     "name": "stdout",
     "output_type": "stream",
     "text": [
      "=> ok I'm sick and spent an hour sitting in the shower cause I was too sick to stand and held back the puke like a champ. BED now \n",
      "=> Poor Joshy is sick???   those damn tejanos!\n",
      "=> Uh oh... I think I am getting sick \n",
      "=> @NileLegania glad I was able help you feel better. I hate to see you sick  Love you!\n",
      "=> @lolitariot oh no  hope you're not getting sick too!\n",
      "=> @KelleyRowe hey, you remember that time we used to be friends?? ;)  ugh. vomit. sick.  i need sleep \n",
      "=> I can't take this heat! It's like an oven in here. I feel sick nwo \n",
      "=> vacations makes me feel sick! \n",
      "=> i feel sick  too much icecream\n",
      "=> Does anybody know how to get your electrolytes back in order? With a vitamin work? I feel sick. \n",
      "=> @mileycyrus hahaha dont be like that one time in NY when you got 30 mins of sleep then got sick  love you!!\n",
      "=> @henrygooden @oddchicken I went there about a month and a half ago, was still open then. Smelt really good, but I was getting sick \n",
      "=> is still effinggggg sick  when will i get better?! ughh\n",
      "=> feels like crying that's how sick i feel \n",
      "=> Worst burn of my life! so sick \n",
      "=> @TheBlondeTheory  ditch in another parish. Some really sick people in this world. \n",
      "=> @riskyrevenge Wait, what? Sick? \n",
      "=> wow! i got sick out of nowhere  and now i cant think straight....and mtv hasnt posted the hills online, wtf!\n",
      "=> i'm up, so much paperwork to do today. `n i'm kinda getting sick  not fun\n",
      "=> Airlie is  sick   and now Mason is sick Too. He is going to miss his school disco \n",
      "=> @SEAF2009 I am strongly considering improvising. I missed last year I was so sick. \n",
      "=> i think i'm getting sick.  \n",
      "=> Trying really hard not to get sick from all of the stuff I just took to get rid of my cough. \n",
      "=> Mir every single morning I feel sick \n",
      "=> Also, I realize that sounded a tad drama-queen, but I haven't been sick in YEARS. It's hittin me hard this time \n",
      "=> I'm at work, and I'm sick.. And its helluva lot todo. This blows. \n",
      "=> cant wait 2 c Carter when bak @ skewl hate gettin sick it suks.......blech \n",
      "=> Why is it that anytime that I plan what do, I get sick and all the plans go out the window. \n",
      "=> I don't think I like the Saw ride at Thorpe Park. The tv ad makes me feel sick, so goodness knows what the ride would do. \n",
      "=> Feel yucky sick this morning \n",
      "=> is probably sick. FFS. \n",
      "=> Awww, Ellie sounds so sick, poor thing \n",
      "=> feels sick and needs foood. i cant find my camera anywhere!  last night was good. lindsay's house is pretty ruined eek.\n",
      "=> Oh no, it's a Harrods day  now I really will be sick.\n",
      "=> dramaa assignmenting is gay. too sick but i have to do it \n",
      "=> @pinkiecharm sorry, you musta got a bit.. sick of my dance tweets.  Sorry to have you unfollow me \n",
      "=> pizza night and i feel too sick \n",
      "=> quite sick going to doctor now \n",
      "=> Beeen Awake for awile.. Sick \n",
      "=> Ate too many Oreos yesterday. Feel very sick today \n",
      "=> The nowhere land - not 100% sick, but definately not healthy either \n",
      "=> I'm too sick from my meds to even stand  FML\n",
      "=> is pretty sure she is sick! \n",
      "=> im sick  at home  alone \n",
      "=> @KimmaJ  thats no good Kimma... what kind of sick do you feel?\n",
      "=> I am so sick from stress, gah, and I need sleep and it is all my fault \n",
      "=> I've given up and am going to the doctor...being sick 3 times in one month is rather annoying \n",
      "=> Sick in bed. Googled 'snot'. Still don't understand why it's decided to take up April lodgings in my skull. \n",
      "=> My rattie is still sick has pneumonia n a tumor  im really run down n depressed n havin a fibro day.\n",
      "=> Is sick...half price sushi from Kumo did not agree with me.  \n",
      "=> chicken on my sarnies makes me sick. why oh why?  ill have to get a heinz BIG soup later on\n",
      "=> gahhh why do I have to be sick before NYC!!! \n",
      "=> Is absolutely sick of riding the bus, sick of school and sick of living so far from the church. what an attitude!!! \n",
      "=> I'm sick of living in this apartment by myself...I miss home so much \n",
      "=> I'm sick...   Those little dudes from the Mucinex commerials are throwing a party in my chest.\n",
      "=> Trip to castle turned into a 60 mile round trip with the kids being sick in the back of the car \n",
      "=> 1 hr left of work...then spending the rest of the day with my sick lil girl \n",
      "=> too sick to be here \n",
      "=> Workin the election, driving round checking on judges and eqip... sick. So much more fun when healthy. \n",
      "=> charlie horse in the middle of the night. terrible dreams. sick.  \n",
      "=> Don't eat a Callipo Ice Lolly before eating your lunch, I feel sick now and not hungry for my sarnie. \n",
      "=> is trying to anti-bac her work area to keep the coworkers' germs away. everyone seems to be sick \n",
      "=> Ugh i hate being sick i would rather be at school then be sick right now. \n",
      "=> Is worried sick about Santino. He has a fever \n",
      "=> Baby is  really sick!!  \n",
      "=> Oh no. No no no.  Getting sick...this is gonna be a bad one \n",
      "=> So I'm not sick anymore. Twilight Zone? but I did go to bed with wet hair so now it's still wet and I'm terribly cold  but not sick? weird\n",
      "=> i am miserablely sick \n",
      "=> Apparently got both parents sick. Oops. \n",
      "=> is so sick. my body hurtssssssssssssssssssssss. \n",
      "=> @jgamet Jeff Gamet is out sick for this week's Design Tools Weekly podcast. I miss him \n",
      "=> �ber sick  Trying to muster up the strength to head into work....\n",
      "=> NIN iPod app looks sick, hope it's free  don't betray me Trent!\n",
      "=> Could it be bronchitis or is it just allergies??? UGH, I feel so sick \n",
      "=> giving the baby crackers and gingerale, he's sick \n",
      "=> I love being single, except.............when I'm sick. \n",
      "=> grrr... at home, sick... so depressed... \n",
      "=> Sick again and it's definitely violating my multitasking. Cannot watch games, twitter and do my programming simultaneously \n",
      "=> Kept waking up, had the weirdest dream, and sick \n",
      "=> @trishofthetrade drunk tweeting?  hahaha I am sick and drinking was out of the question last night \n",
      "=> Haven't twittered for days! Cat was sick and to the vet, now my four year old is sick with a bronchial infection and fever \n",
      "=> i think i'm getting sick again. poop. \n",
      "=> Ϛ �??k  **pouty face** Shitty day out in Boston again ugh no wonder I'm sick\n",
      "=> @MellissaD little Josiah. Ryan was like that when he was sick recently. You wish you could do something.  ?\n",
      "=> @tonycarrera oh no! poor dear! between her surgery and now being sick, she can't seem to catch a break \n",
      "=> being sick  again!!!! \n",
      "=> heading for home, sick \n",
      "=> I'm sick and taking a nap \n",
      "=> Enjoying the weather and cuddle my sick cat... poor girl has epilepsy \n",
      "=> @CandelaCandela yep, and it's worst because i got my husband sick, too.  we shouldnt have shared that frosty \n",
      "=> sick ...and giant accounting test at 6 \n",
      "=> heading to school after 11. sisters sick \n",
      "=> my little baby is sick today... sad face \n",
      "=> Ugh!  Been sick all week!  Somebody save me!!!  \n",
      "=> Ugh. I am sick for the second time in a week. This one is worse.  \n",
      "=> despite a 14 hr sleep, i am already starting to fade this morning. i think i might have gotten sick on the flight home... \n",
      "=> my cat is sick again... congestive heart failure .. not sure if she's going to make it this time \n",
      "=> SIck and tired of hacking away at a third parties PHP code. The whole thing needs re-written so as to be maintainable. \n",
      "=> sick today    staying home, and watching CHICAGO &lt;3\n",
      "=> @mapgirlsfc The Flames need to learn how to win in the playoffs. I'm sick of our 1st round exits every year. \n",
      "=> sick  can't wait to go back to my room and sleeeeep.\n",
      "=> I feel sick  ate too much\n",
      "=> You guys have no idea how bummed I am that I'm still sick. This week was supposed to be awesome. I was going to learn things. \n",
      "=> I'm sick... But I have to venture out anyway. I gave ro my second pair of gloves only to realize I kind of need them today. \n",
      "=> cold, tired, stressed, annoyed, irritated, getting sick... ugh, i hate life!!  can't wait till the weekend, i get to see people again...\n",
      "=> @shantiadonte No  baby got sick right before from his cousin's birthday party  I heard it was FIYA though...\n",
      "=> @mea_86 I'm sick face too \n",
      "=> Sick again??! Or the same mystery disease...  docters later.\n",
      "=> @Jimmers31 You and Ru aren't even working in the same office anymore and you still get sick?!  Feel better!!\n",
      "=> at the house tryna take care of a sick moe.... \n",
      "=> Ok, I'm calling it. Still too sick to drive to O-land for Barcamp tomorrow \n",
      "=> @kutabuta thats sad that he is sick!   and I miss you too!\n",
      "=> Very very sick \n",
      "=> when am i gonna finally be not sick???? \n",
      "=> @Killandra holy crap u ok? U sound really sick \n",
      "=> I think the car buying experience is making me sick. \n",
      "=> i feel really crappy. i hope i'm not getting sick, i have a full day ahead of me tomorrow. \n",
      "=> is all achey. I hope I'm not getting sick  off to bed.\n"
     ]
    }
   ],
   "source": [
    "for i in range(0,sizeOfSets):\n",
    "    if res[i][0] == 102:\n",
    "        print(\"=>\",res[i][1])"
   ]
  },
  {
   "cell_type": "code",
   "execution_count": null,
   "metadata": {},
   "outputs": [],
   "source": []
  }
 ],
 "metadata": {
  "kernelspec": {
   "display_name": "Python 3",
   "language": "python",
   "name": "python3"
  },
  "language_info": {
   "codemirror_mode": {
    "name": "ipython",
    "version": 3
   },
   "file_extension": ".py",
   "mimetype": "text/x-python",
   "name": "python",
   "nbconvert_exporter": "python",
   "pygments_lexer": "ipython3",
   "version": "3.7.3"
  }
 },
 "nbformat": 4,
 "nbformat_minor": 2
}
