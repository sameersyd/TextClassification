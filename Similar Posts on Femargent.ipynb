{
 "cells": [
  {
   "cell_type": "code",
   "execution_count": 17,
   "metadata": {},
   "outputs": [],
   "source": [
    "import csv\n",
    "from sklearn.feature_extraction.text import TfidfVectorizer\n",
    "from sklearn.cluster import KMeans\n",
    "import numpy as np\n",
    "import pandas as pd"
   ]
  },
  {
   "cell_type": "code",
   "execution_count": 18,
   "metadata": {},
   "outputs": [],
   "source": [
    "def setDocumentContent():\n",
    "    with open('/Users/sameernawaz/AnacondaProjects/Datasets/Streams.csv', 'r') as csv_file:\n",
    "        csv_reader = csv.reader(csv_file)\n",
    "        count = 0\n",
    "        for line in csv_reader:\n",
    "            val[count] = line\n",
    "            count = count + 1\n",
    "            if count >= sizeOfSets :\n",
    "                break\n",
    "            \n",
    "    countTemp = 0\n",
    "    for i in val:\n",
    "        document[countTemp] = i[13]\n",
    "        countTemp += 1"
   ]
  },
  {
   "cell_type": "code",
   "execution_count": 19,
   "metadata": {},
   "outputs": [],
   "source": [
    "sizeOfSets = 300\n",
    "val = [None] * sizeOfSets\n",
    "document = [\"\"] * sizeOfSets\n",
    "\n",
    "setDocumentContent()"
   ]
  },
  {
   "cell_type": "code",
   "execution_count": 20,
   "metadata": {},
   "outputs": [
    {
     "name": "stdout",
     "output_type": "stream",
     "text": [
      "Requirement already satisfied: textsearch in /anaconda3/lib/python3.7/site-packages (0.0.17)\n",
      "Requirement already satisfied: pyahocorasick in /anaconda3/lib/python3.7/site-packages (from textsearch) (1.4.0)\n",
      "Requirement already satisfied: Unidecode in /anaconda3/lib/python3.7/site-packages (from textsearch) (1.1.1)\n",
      "Requirement already satisfied: contractions in /anaconda3/lib/python3.7/site-packages (0.0.24)\n",
      "Requirement already satisfied: textsearch in /anaconda3/lib/python3.7/site-packages (from contractions) (0.0.17)\n",
      "Requirement already satisfied: Unidecode in /anaconda3/lib/python3.7/site-packages (from textsearch->contractions) (1.1.1)\n",
      "Requirement already satisfied: pyahocorasick in /anaconda3/lib/python3.7/site-packages (from textsearch->contractions) (1.4.0)\n"
     ]
    },
    {
     "name": "stderr",
     "output_type": "stream",
     "text": [
      "[nltk_data] Downloading package punkt to\n",
      "[nltk_data]     /Users/sameernawaz/nltk_data...\n",
      "[nltk_data]   Package punkt is already up-to-date!\n",
      "[nltk_data] Downloading package stopwords to\n",
      "[nltk_data]     /Users/sameernawaz/nltk_data...\n",
      "[nltk_data]   Package stopwords is already up-to-date!\n"
     ]
    },
    {
     "data": {
      "text/plain": [
       "True"
      ]
     },
     "execution_count": 20,
     "metadata": {},
     "output_type": "execute_result"
    }
   ],
   "source": [
    "!pip install textsearch\n",
    "!pip install contractions\n",
    "import nltk\n",
    "nltk.download('punkt')\n",
    "nltk.download('stopwords')"
   ]
  },
  {
   "cell_type": "code",
   "execution_count": 21,
   "metadata": {},
   "outputs": [
    {
     "name": "stdout",
     "output_type": "stream",
     "text": [
      "['gFfpVo2FwT', '0', '', '', '', '1', '0', 'Pointer', '_User', 'JdOjsewt0L', '', '', '', 'Cheers ladies! Pleasure to meet you, I’m Safina, Society Gal’s Event Planner 🖤 Thrilled to connect with all of you here and always looking for feedback on what you want and how you want it! If I can find a way to bring it to you, be sure it’ll come in a sexy #safisticated package 💋', '7', '12', '0', '2020-03-03T12:49:31.508Z', '2020-03-03T12:49:31.508Z']\n"
     ]
    }
   ],
   "source": [
    "print(val[0])"
   ]
  },
  {
   "cell_type": "code",
   "execution_count": 22,
   "metadata": {},
   "outputs": [],
   "source": [
    "df = pd.DataFrame(val, columns = ['objectID', 'Shares', 'VideoType', 'VideoName', 'videoURL', 'Comments', 'profileClicks', 'userPointerType', 'userPointerClassName', 'userPointerObjectID', 'imageType', 'imageName', 'imageURL', 'text', 'likes', 'views', 'bookmarks', 'createdAt', 'updatedAt']) "
   ]
  },
  {
   "cell_type": "code",
   "execution_count": 24,
   "metadata": {},
   "outputs": [
    {
     "data": {
      "text/html": [
       "<div>\n",
       "<style scoped>\n",
       "    .dataframe tbody tr th:only-of-type {\n",
       "        vertical-align: middle;\n",
       "    }\n",
       "\n",
       "    .dataframe tbody tr th {\n",
       "        vertical-align: top;\n",
       "    }\n",
       "\n",
       "    .dataframe thead th {\n",
       "        text-align: right;\n",
       "    }\n",
       "</style>\n",
       "<table border=\"1\" class=\"dataframe\">\n",
       "  <thead>\n",
       "    <tr style=\"text-align: right;\">\n",
       "      <th></th>\n",
       "      <th>objectID</th>\n",
       "      <th>Shares</th>\n",
       "      <th>VideoType</th>\n",
       "      <th>VideoName</th>\n",
       "      <th>videoURL</th>\n",
       "      <th>Comments</th>\n",
       "      <th>profileClicks</th>\n",
       "      <th>userPointerType</th>\n",
       "      <th>userPointerClassName</th>\n",
       "      <th>userPointerObjectID</th>\n",
       "      <th>imageType</th>\n",
       "      <th>imageName</th>\n",
       "      <th>imageURL</th>\n",
       "      <th>text</th>\n",
       "      <th>likes</th>\n",
       "      <th>views</th>\n",
       "      <th>bookmarks</th>\n",
       "      <th>createdAt</th>\n",
       "      <th>updatedAt</th>\n",
       "    </tr>\n",
       "  </thead>\n",
       "  <tbody>\n",
       "    <tr>\n",
       "      <th>0</th>\n",
       "      <td>gFfpVo2FwT</td>\n",
       "      <td>0</td>\n",
       "      <td></td>\n",
       "      <td></td>\n",
       "      <td></td>\n",
       "      <td>1</td>\n",
       "      <td>0</td>\n",
       "      <td>Pointer</td>\n",
       "      <td>_User</td>\n",
       "      <td>JdOjsewt0L</td>\n",
       "      <td></td>\n",
       "      <td></td>\n",
       "      <td></td>\n",
       "      <td>Cheers ladies! Pleasure to meet you, I’m Safin...</td>\n",
       "      <td>7</td>\n",
       "      <td>12</td>\n",
       "      <td>0</td>\n",
       "      <td>2020-03-03T12:49:31.508Z</td>\n",
       "      <td>2020-03-03T12:49:31.508Z</td>\n",
       "    </tr>\n",
       "    <tr>\n",
       "      <th>1</th>\n",
       "      <td>jRNVujUa03</td>\n",
       "      <td>0</td>\n",
       "      <td></td>\n",
       "      <td></td>\n",
       "      <td></td>\n",
       "      <td>0</td>\n",
       "      <td>1</td>\n",
       "      <td>Pointer</td>\n",
       "      <td>_User</td>\n",
       "      <td>XJ1fbtm3aC</td>\n",
       "      <td>File</td>\n",
       "      <td>652013e6864a6059b449f6b081709304_image.jpg</td>\n",
       "      <td>https://parsefiles.back4app.com/Eu2H7JiGkiBwPa...</td>\n",
       "      <td>Transform your life! Tomorrow Saturday Novembe...</td>\n",
       "      <td>6</td>\n",
       "      <td>7</td>\n",
       "      <td>1</td>\n",
       "      <td>2020-03-03T12:49:31.508Z</td>\n",
       "      <td>2020-03-03T12:49:31.508Z</td>\n",
       "    </tr>\n",
       "    <tr>\n",
       "      <th>2</th>\n",
       "      <td>uvvYbZtcsl</td>\n",
       "      <td>0</td>\n",
       "      <td></td>\n",
       "      <td></td>\n",
       "      <td></td>\n",
       "      <td>1</td>\n",
       "      <td>0</td>\n",
       "      <td>Pointer</td>\n",
       "      <td>_User</td>\n",
       "      <td>MPIYycMk29</td>\n",
       "      <td>File</td>\n",
       "      <td>945e66a01ae64098f2b94937a134a566_image.jpg</td>\n",
       "      <td>https://parsefiles.back4app.com/Eu2H7JiGkiBwPa...</td>\n",
       "      <td>Making moves at the Digital Hollywood conventi...</td>\n",
       "      <td>6</td>\n",
       "      <td>22</td>\n",
       "      <td>0</td>\n",
       "      <td>2020-03-03T12:49:31.517Z</td>\n",
       "      <td>2020-03-03T12:49:31.517Z</td>\n",
       "    </tr>\n",
       "    <tr>\n",
       "      <th>3</th>\n",
       "      <td>h7GgZoqjRL</td>\n",
       "      <td>0</td>\n",
       "      <td></td>\n",
       "      <td></td>\n",
       "      <td></td>\n",
       "      <td>0</td>\n",
       "      <td>1</td>\n",
       "      <td>Pointer</td>\n",
       "      <td>_User</td>\n",
       "      <td>EwlsOjH8zR</td>\n",
       "      <td>File</td>\n",
       "      <td>791db236ef99b9603c5dd2e6b5265292_image.jpg</td>\n",
       "      <td>https://parsefiles.back4app.com/Eu2H7JiGkiBwPa...</td>\n",
       "      <td>Note to self: All your milestones started from...</td>\n",
       "      <td>7</td>\n",
       "      <td>16</td>\n",
       "      <td>0</td>\n",
       "      <td>2020-03-03T12:49:31.517Z</td>\n",
       "      <td>2020-03-03T12:49:31.517Z</td>\n",
       "    </tr>\n",
       "    <tr>\n",
       "      <th>4</th>\n",
       "      <td>uFsYWSv0uZ</td>\n",
       "      <td>0</td>\n",
       "      <td></td>\n",
       "      <td></td>\n",
       "      <td></td>\n",
       "      <td>1</td>\n",
       "      <td>1</td>\n",
       "      <td>Pointer</td>\n",
       "      <td>_User</td>\n",
       "      <td>DkROZ0bjmt</td>\n",
       "      <td></td>\n",
       "      <td></td>\n",
       "      <td></td>\n",
       "      <td>Hello! So excited to be part of this! I’m Alis...</td>\n",
       "      <td>6</td>\n",
       "      <td>9</td>\n",
       "      <td>0</td>\n",
       "      <td>2020-03-03T12:49:31.517Z</td>\n",
       "      <td>2020-03-03T12:49:31.517Z</td>\n",
       "    </tr>\n",
       "  </tbody>\n",
       "</table>\n",
       "</div>"
      ],
      "text/plain": [
       "     objectID Shares VideoType VideoName videoURL Comments profileClicks  \\\n",
       "0  gFfpVo2FwT      0                                     1             0   \n",
       "1  jRNVujUa03      0                                     0             1   \n",
       "2  uvvYbZtcsl      0                                     1             0   \n",
       "3  h7GgZoqjRL      0                                     0             1   \n",
       "4  uFsYWSv0uZ      0                                     1             1   \n",
       "\n",
       "  userPointerType userPointerClassName userPointerObjectID imageType  \\\n",
       "0         Pointer                _User          JdOjsewt0L             \n",
       "1         Pointer                _User          XJ1fbtm3aC      File   \n",
       "2         Pointer                _User          MPIYycMk29      File   \n",
       "3         Pointer                _User          EwlsOjH8zR      File   \n",
       "4         Pointer                _User          DkROZ0bjmt             \n",
       "\n",
       "                                    imageName  \\\n",
       "0                                               \n",
       "1  652013e6864a6059b449f6b081709304_image.jpg   \n",
       "2  945e66a01ae64098f2b94937a134a566_image.jpg   \n",
       "3  791db236ef99b9603c5dd2e6b5265292_image.jpg   \n",
       "4                                               \n",
       "\n",
       "                                            imageURL  \\\n",
       "0                                                      \n",
       "1  https://parsefiles.back4app.com/Eu2H7JiGkiBwPa...   \n",
       "2  https://parsefiles.back4app.com/Eu2H7JiGkiBwPa...   \n",
       "3  https://parsefiles.back4app.com/Eu2H7JiGkiBwPa...   \n",
       "4                                                      \n",
       "\n",
       "                                                text likes views bookmarks  \\\n",
       "0  Cheers ladies! Pleasure to meet you, I’m Safin...     7    12         0   \n",
       "1  Transform your life! Tomorrow Saturday Novembe...     6     7         1   \n",
       "2  Making moves at the Digital Hollywood conventi...     6    22         0   \n",
       "3  Note to self: All your milestones started from...     7    16         0   \n",
       "4  Hello! So excited to be part of this! I’m Alis...     6     9         0   \n",
       "\n",
       "                  createdAt                 updatedAt  \n",
       "0  2020-03-03T12:49:31.508Z  2020-03-03T12:49:31.508Z  \n",
       "1  2020-03-03T12:49:31.508Z  2020-03-03T12:49:31.508Z  \n",
       "2  2020-03-03T12:49:31.517Z  2020-03-03T12:49:31.517Z  \n",
       "3  2020-03-03T12:49:31.517Z  2020-03-03T12:49:31.517Z  \n",
       "4  2020-03-03T12:49:31.517Z  2020-03-03T12:49:31.517Z  "
      ]
     },
     "execution_count": 24,
     "metadata": {},
     "output_type": "execute_result"
    }
   ],
   "source": [
    "df.head()"
   ]
  },
  {
   "cell_type": "code",
   "execution_count": 25,
   "metadata": {},
   "outputs": [
    {
     "name": "stdout",
     "output_type": "stream",
     "text": [
      "<class 'pandas.core.frame.DataFrame'>\n",
      "Int64Index: 300 entries, 0 to 299\n",
      "Data columns (total 3 columns):\n",
      "objectID               300 non-null object\n",
      "userPointerObjectID    300 non-null object\n",
      "text                   300 non-null object\n",
      "dtypes: object(3)\n",
      "memory usage: 9.4+ KB\n"
     ]
    }
   ],
   "source": [
    "df = df[['objectID', 'userPointerObjectID', 'text']]\n",
    "df.dropna(inplace=True)\n",
    "df.info()"
   ]
  },
  {
   "cell_type": "code",
   "execution_count": 26,
   "metadata": {},
   "outputs": [
    {
     "data": {
      "text/plain": [
       "300"
      ]
     },
     "execution_count": 26,
     "metadata": {},
     "output_type": "execute_result"
    }
   ],
   "source": [
    "import nltk\n",
    "import re\n",
    "import numpy as np\n",
    "import contractions\n",
    "\n",
    "stop_words = nltk.corpus.stopwords.words('english')\n",
    "\n",
    "def normalize_document(doc):\n",
    "    # lower case and remove special characters\\whitespaces\n",
    "    doc = re.sub(r'[^a-zA-Z0-9\\s]', '', doc, re.I|re.A)\n",
    "    doc = doc.lower()\n",
    "    doc = doc.strip()\n",
    "    doc = contractions.fix(doc)\n",
    "    # tokenize document\n",
    "    tokens = nltk.word_tokenize(doc)\n",
    "    #filter stopwords out of document\n",
    "    filtered_tokens = [token for token in tokens if token not in stop_words]\n",
    "    # re-create document from filtered tokens\n",
    "    doc = ' '.join(filtered_tokens)\n",
    "    return doc\n",
    "\n",
    "normalize_corpus = np.vectorize(normalize_document)\n",
    "\n",
    "norm_corpus = normalize_corpus(list(df['text']))\n",
    "len(norm_corpus)"
   ]
  },
  {
   "cell_type": "code",
   "execution_count": 27,
   "metadata": {},
   "outputs": [
    {
     "data": {
      "text/plain": [
       "(300, 1953)"
      ]
     },
     "execution_count": 27,
     "metadata": {},
     "output_type": "execute_result"
    }
   ],
   "source": [
    "from sklearn.feature_extraction.text import TfidfVectorizer\n",
    "\n",
    "tf = TfidfVectorizer(ngram_range=(1, 2), min_df=2)\n",
    "tfidf_matrix = tf.fit_transform(norm_corpus)\n",
    "tfidf_matrix.shape"
   ]
  },
  {
   "cell_type": "code",
   "execution_count": 28,
   "metadata": {},
   "outputs": [
    {
     "data": {
      "text/html": [
       "<div>\n",
       "<style scoped>\n",
       "    .dataframe tbody tr th:only-of-type {\n",
       "        vertical-align: middle;\n",
       "    }\n",
       "\n",
       "    .dataframe tbody tr th {\n",
       "        vertical-align: top;\n",
       "    }\n",
       "\n",
       "    .dataframe thead th {\n",
       "        text-align: right;\n",
       "    }\n",
       "</style>\n",
       "<table border=\"1\" class=\"dataframe\">\n",
       "  <thead>\n",
       "    <tr style=\"text-align: right;\">\n",
       "      <th></th>\n",
       "      <th>0</th>\n",
       "      <th>1</th>\n",
       "      <th>2</th>\n",
       "      <th>3</th>\n",
       "      <th>4</th>\n",
       "      <th>5</th>\n",
       "      <th>6</th>\n",
       "      <th>7</th>\n",
       "      <th>8</th>\n",
       "      <th>9</th>\n",
       "      <th>...</th>\n",
       "      <th>290</th>\n",
       "      <th>291</th>\n",
       "      <th>292</th>\n",
       "      <th>293</th>\n",
       "      <th>294</th>\n",
       "      <th>295</th>\n",
       "      <th>296</th>\n",
       "      <th>297</th>\n",
       "      <th>298</th>\n",
       "      <th>299</th>\n",
       "    </tr>\n",
       "  </thead>\n",
       "  <tbody>\n",
       "    <tr>\n",
       "      <th>0</th>\n",
       "      <td>1.000000</td>\n",
       "      <td>0.031253</td>\n",
       "      <td>0.000000</td>\n",
       "      <td>0.031348</td>\n",
       "      <td>0.000000</td>\n",
       "      <td>0.000000</td>\n",
       "      <td>0.000000</td>\n",
       "      <td>0.0</td>\n",
       "      <td>0.018056</td>\n",
       "      <td>0.00000</td>\n",
       "      <td>...</td>\n",
       "      <td>0.000000</td>\n",
       "      <td>0.074462</td>\n",
       "      <td>0.0</td>\n",
       "      <td>0.044366</td>\n",
       "      <td>0.0</td>\n",
       "      <td>0.000000</td>\n",
       "      <td>0.000000</td>\n",
       "      <td>0.000000</td>\n",
       "      <td>0.009750</td>\n",
       "      <td>0.038225</td>\n",
       "    </tr>\n",
       "    <tr>\n",
       "      <th>1</th>\n",
       "      <td>0.031253</td>\n",
       "      <td>1.000000</td>\n",
       "      <td>0.000000</td>\n",
       "      <td>0.000000</td>\n",
       "      <td>0.000000</td>\n",
       "      <td>0.066673</td>\n",
       "      <td>0.036348</td>\n",
       "      <td>0.0</td>\n",
       "      <td>0.036857</td>\n",
       "      <td>0.02975</td>\n",
       "      <td>...</td>\n",
       "      <td>0.000000</td>\n",
       "      <td>0.000000</td>\n",
       "      <td>0.0</td>\n",
       "      <td>0.000000</td>\n",
       "      <td>0.0</td>\n",
       "      <td>0.067165</td>\n",
       "      <td>0.000000</td>\n",
       "      <td>0.093421</td>\n",
       "      <td>0.019893</td>\n",
       "      <td>0.033656</td>\n",
       "    </tr>\n",
       "    <tr>\n",
       "      <th>2</th>\n",
       "      <td>0.000000</td>\n",
       "      <td>0.000000</td>\n",
       "      <td>1.000000</td>\n",
       "      <td>0.000000</td>\n",
       "      <td>0.088863</td>\n",
       "      <td>0.000000</td>\n",
       "      <td>0.000000</td>\n",
       "      <td>0.0</td>\n",
       "      <td>0.000000</td>\n",
       "      <td>0.00000</td>\n",
       "      <td>...</td>\n",
       "      <td>0.000000</td>\n",
       "      <td>0.000000</td>\n",
       "      <td>0.0</td>\n",
       "      <td>0.000000</td>\n",
       "      <td>0.0</td>\n",
       "      <td>0.080018</td>\n",
       "      <td>0.000000</td>\n",
       "      <td>0.085184</td>\n",
       "      <td>0.026671</td>\n",
       "      <td>0.039878</td>\n",
       "    </tr>\n",
       "    <tr>\n",
       "      <th>3</th>\n",
       "      <td>0.031348</td>\n",
       "      <td>0.000000</td>\n",
       "      <td>0.000000</td>\n",
       "      <td>1.000000</td>\n",
       "      <td>0.019705</td>\n",
       "      <td>0.000000</td>\n",
       "      <td>0.000000</td>\n",
       "      <td>0.0</td>\n",
       "      <td>0.010130</td>\n",
       "      <td>0.00000</td>\n",
       "      <td>...</td>\n",
       "      <td>0.000000</td>\n",
       "      <td>0.063811</td>\n",
       "      <td>0.0</td>\n",
       "      <td>0.000000</td>\n",
       "      <td>0.0</td>\n",
       "      <td>0.000000</td>\n",
       "      <td>0.000000</td>\n",
       "      <td>0.019158</td>\n",
       "      <td>0.000000</td>\n",
       "      <td>0.098137</td>\n",
       "    </tr>\n",
       "    <tr>\n",
       "      <th>4</th>\n",
       "      <td>0.000000</td>\n",
       "      <td>0.000000</td>\n",
       "      <td>0.088863</td>\n",
       "      <td>0.019705</td>\n",
       "      <td>1.000000</td>\n",
       "      <td>0.020010</td>\n",
       "      <td>0.047376</td>\n",
       "      <td>0.0</td>\n",
       "      <td>0.029298</td>\n",
       "      <td>0.03607</td>\n",
       "      <td>...</td>\n",
       "      <td>0.091042</td>\n",
       "      <td>0.000000</td>\n",
       "      <td>0.0</td>\n",
       "      <td>0.000000</td>\n",
       "      <td>0.0</td>\n",
       "      <td>0.017008</td>\n",
       "      <td>0.018261</td>\n",
       "      <td>0.015002</td>\n",
       "      <td>0.037885</td>\n",
       "      <td>0.017022</td>\n",
       "    </tr>\n",
       "  </tbody>\n",
       "</table>\n",
       "<p>5 rows × 300 columns</p>\n",
       "</div>"
      ],
      "text/plain": [
       "        0         1         2         3         4         5         6    7    \\\n",
       "0  1.000000  0.031253  0.000000  0.031348  0.000000  0.000000  0.000000  0.0   \n",
       "1  0.031253  1.000000  0.000000  0.000000  0.000000  0.066673  0.036348  0.0   \n",
       "2  0.000000  0.000000  1.000000  0.000000  0.088863  0.000000  0.000000  0.0   \n",
       "3  0.031348  0.000000  0.000000  1.000000  0.019705  0.000000  0.000000  0.0   \n",
       "4  0.000000  0.000000  0.088863  0.019705  1.000000  0.020010  0.047376  0.0   \n",
       "\n",
       "        8        9    ...       290       291  292       293  294       295  \\\n",
       "0  0.018056  0.00000  ...  0.000000  0.074462  0.0  0.044366  0.0  0.000000   \n",
       "1  0.036857  0.02975  ...  0.000000  0.000000  0.0  0.000000  0.0  0.067165   \n",
       "2  0.000000  0.00000  ...  0.000000  0.000000  0.0  0.000000  0.0  0.080018   \n",
       "3  0.010130  0.00000  ...  0.000000  0.063811  0.0  0.000000  0.0  0.000000   \n",
       "4  0.029298  0.03607  ...  0.091042  0.000000  0.0  0.000000  0.0  0.017008   \n",
       "\n",
       "        296       297       298       299  \n",
       "0  0.000000  0.000000  0.009750  0.038225  \n",
       "1  0.000000  0.093421  0.019893  0.033656  \n",
       "2  0.000000  0.085184  0.026671  0.039878  \n",
       "3  0.000000  0.019158  0.000000  0.098137  \n",
       "4  0.018261  0.015002  0.037885  0.017022  \n",
       "\n",
       "[5 rows x 300 columns]"
      ]
     },
     "execution_count": 28,
     "metadata": {},
     "output_type": "execute_result"
    }
   ],
   "source": [
    "from sklearn.metrics.pairwise import cosine_similarity\n",
    "\n",
    "doc_sim = cosine_similarity(tfidf_matrix)\n",
    "doc_sim_df = pd.DataFrame(doc_sim)\n",
    "doc_sim_df.head()"
   ]
  },
  {
   "cell_type": "code",
   "execution_count": 29,
   "metadata": {},
   "outputs": [
    {
     "data": {
      "text/plain": [
       "(array(['gFfpVo2FwT', 'jRNVujUa03', 'uvvYbZtcsl', 'h7GgZoqjRL',\n",
       "        'uFsYWSv0uZ', 'F4gcyaeB0d', '4nBTSiQwHL', 'FPTz6YhQMb',\n",
       "        'NvSHNuCrQh', 'EBCE9AXTQD', 's8Ckilgwk2', 'JlBd0kqVou',\n",
       "        'ssuCcmPnTY', 'lJFFQiUN5l', 'Rf2iiUPE1H', 'LdIk9WxcGC',\n",
       "        'HfBD0OFTBl', 'KIM2uTbCOz', '79sAJnCNfw', 'QtKac7HzJR',\n",
       "        'zWzbMtOnfc', 's2p3C7g7SE', 'O1weceVmRs', '8BZVQFVwaT',\n",
       "        'Ve6EkVJUG8', 'EhDhX22EvM', 'o0ZMcH9HaD', 'EkCSbT3w2x',\n",
       "        'eJCsyOHrKM', 'VKKCXWAvkp', '7LwwopHrzt', 'NgslXBqwnK',\n",
       "        'eSXB7yUFzm', 'Lg8DpLrxZL', 'EutKhxv4oF', 'edk4FU0i60',\n",
       "        'ApBn2koyDG', 'xZ3TVkD04n', 'pAPBBch4rd', 'bQtJMlHovr',\n",
       "        'MXZNm8JOxi', 'tgzfL8z0lr', 'Q1ReuDcEFT', 'QuIBtMT7fU',\n",
       "        'TuZmkTGwQL', 'a0hpG87wrb', 'ftgGkuv6Nm', 'jyCdQiz9mA',\n",
       "        'lAOjGGbAq7', 'bZxWPVTxTZ', 'olrNbG3dGR', 'x6MzHiCdFc',\n",
       "        'eRgsUaGfF2', '9MDZgDmEiA', 'kltNeVnoCb', 'hOPYqKF7dA',\n",
       "        'D2KcgpGjXf', 'EiDj2fqnqe', 'EoLb6GHQfp', 'jn3iLya8Kv',\n",
       "        'CFjjpnRr4t', 'yxc6f6sih3', 'sKb2vcdIAo', 'tMDC5qloAO',\n",
       "        'ZwUXr5KmtM', 'YCRrP42zb7', 'gdhdKs7nQB', '4dOmWMH06d',\n",
       "        'qSDemVF6EP', 'AJRE8ptkk5', 'Oqmo29bysT', 'M4Be3B7ckU',\n",
       "        'CCLAiQg0v3', 'qiI74drEmM', 'tmGJLiSb55', 'tPOC6m4sFL',\n",
       "        'INC6jmIMNr', 'DQ3h4nDkRI', 'Tcx6ELmrYZ', 'MHUEbKli0Y',\n",
       "        'QR4V0IVtlB', 'ZK2KCdP4SD', 'xl3Yp4eTUs', 'ALQwJ8uENW',\n",
       "        'JglKpEXObE', 'eS12AdiXmT', 'RvUfCQOzj7', 'EzEhNk7NIq',\n",
       "        'gibEGHuwOS', 'uYkbEpU9UQ', 'o2HKkE3aif', '2sSgjyWxUW',\n",
       "        'lboshMjJwq', 'qSH2kogFWV', 'wAXg1N4OZn', 'qcBrmaRZss',\n",
       "        'msw2YZC7S3', '7DKssb9LJD', 'jOCjzYHnTi', 'VMvdkqYCay',\n",
       "        'CuyS202HbP', '8wmZkN3Az9', 'Vi8P682faC', 'tUBOthLDa9',\n",
       "        'mhGqrTEqLC', 'kC5XPflAFV', 'GQ7INqmuwN', 'VqNU1emVyP',\n",
       "        'AAZl3gll3r', 'cHcm7Z5qXr', '8iuE2aQqSj', 'aFNX7Bhk9u',\n",
       "        'kuJnB1gUrg', '5oZn2n3bYh', '38S2JJtUH1', 'QAQPrvY7cE',\n",
       "        'TqASVI0STB', 'HY0nxKzPvs', 'Ozo2Lm95BY', 'lApM8gzILl',\n",
       "        'chDWA2BBd6', 'GrFTNKp4MD', 'RC4X8LmE21', '0zNBvO3QGr',\n",
       "        'LdBn4Drery', 'whHTm4O1GB', 'CuBcA8WlW1', 'CUoCJJrXpU',\n",
       "        'oBndcz8nDE', 'yFuDaTvAKb', 'G1kl9wMcoG', 'VgCERw7PJ0',\n",
       "        'rwvLRIBA9n', 'AS0GehlKhl', '0XbRVYFcPp', 'uUYRe9lgg9',\n",
       "        'N2itQQuFDN', 'eJKaktxEDp', 'vwUSAw23ng', 'POUqTCTIV2',\n",
       "        'PkAbgpM6D3', 'Gi3pPJIbxJ', 'OqjBc2OqlM', '3fnktWYtBd',\n",
       "        '8FGadfyRp1', 'zFgicmE0CV', 'GlDtJJVe7T', 'VL6uxvSZ8d',\n",
       "        'bzLOyQy8th', 'jCNLOfJwUu', 'h984Ps5IYq', '3c1rjvcSvb',\n",
       "        '8V2yUs7sxK', 'tzKA5vC9Dn', 'l6Z0bXtlDc', '56JzMCK1zL',\n",
       "        'M3wn4zVxqF', '7PzJM4Bj5a', '28PHhy0fcj', 'WwJqSoZCBc',\n",
       "        'k3RczLqJLC', 'UM5FqCAH5Y', 'N0dVASF8BQ', 'UjTGMDLe9N',\n",
       "        'U69H8ywArW', 'kyeGGXtSo7', '5Ux17Uqlhp', 'CiLEv7xsbY',\n",
       "        'nIVJn4KczR', '04Ui6OVyfH', 'J3KY6rcp78', 'CrbJfY0bGA',\n",
       "        '2LP0951xlT', 'MzGMFyAAgT', 'iUAIRpXWa3', 'DxLzyxGa5d',\n",
       "        '12raWayhMP', 'Fx2wMbQo4x', 'oCa3aLLQ39', 'GE44OeG0GG',\n",
       "        'uZVN4CNdYE', 'jo7Zjpc6Cz', 'Di6FskWDHR', '5rpQd2gjkO',\n",
       "        'Etvzj6HA0e', 'LW9GAVjmQ4', 'Ie63bPO34h', '8B1AdByXeg',\n",
       "        'EKMKT1lNRS', 'asySkRMyXH', '8MOcWtmXD6', 'g1P3VM1TN0',\n",
       "        '71nlOrTVRZ', 'ZBbMBRkT5u', '8kdCbKEqZR', 'Mw8hW8AV45',\n",
       "        'BI8NvznRwM', 'PVvcGjXp2S', 'vgRH7E3LQa', '6LBllJztDS',\n",
       "        'cDGXAunEKK', 'ZgJMEtLtSz', 'ACsTgFxFJk', 'Sh6KreO4IU',\n",
       "        'FJSYPIIUPR', 'PCDKx5I50w', 'dTcLAn8iak', 'T56337r8yh',\n",
       "        'mfQsZFCOIz', 'aa9JsX1Fp8', 'eqUxumfxV0', 'pde17IQm1L',\n",
       "        'zpV36y7fQM', 'Oj0x0WL8LF', '8Mbr1wK1rs', 'PRuZys2AU8',\n",
       "        '0HEXtsC68o', 'aCgDNakkpW', 'RvB1aeSRdF', 'XttGLwhNtw',\n",
       "        'QDu184fmNO', 'TEMIoE6Pl9', 'UAiEmKcvhl', '2tI4crzwET',\n",
       "        'sUB8MluS4Y', 'BEybiIr0pv', 'AXVsgbTtIy', '0aCMvqDzC5',\n",
       "        'c6TMHzCrTN', 'jQktutMJ8N', 'b3EG3gi1Hb', 'zt0AeCLRqm',\n",
       "        'lIPN6UAwTY', 'eQhkYXauFD', 'ynsp2Z4zG7', 'rfueXDEpRw',\n",
       "        'ichG8mg1Sm', 'T4pfvyoXFG', 'm1CW96ldtD', 'kI4JZakaHl',\n",
       "        'eG0Tynlz6r', 'pRKZXBeGPk', 'hjV9DZapBC', 'tGf8P8MhnO',\n",
       "        'nKK62n6NV5', 'A9TOnn5hLC', 'TM9S00JogB', 'dgQ7LHta90',\n",
       "        'VoEd9lGg1Z', 'YwmiFiSRui', 'GbAsFPKiLl', 'rcTWUU4erd',\n",
       "        'TST85G81os', 'iEpidBFH0x', '8YN1QIHdOP', 'OFBo80KwJg',\n",
       "        'hRNdsgmnrf', 'DpW1F0RSC8', 'jpS2J3nB18', 'I30w3M9IzG',\n",
       "        'LHfDsXcDcx', 'aipOg9JOb6', 'dB6LhZgyT1', 'FKpuML1zZU',\n",
       "        'L0cN1OD4hG', 'G6Cj4AeXKn', 'y8FKywwEet', 'h4OerjYD3J',\n",
       "        '5X8ehUyPq2', 'SKu3atdfh7', 'sVCzhYEORy', '0AqusRrLK2',\n",
       "        '3tSsKHYeVw', '5Xvd5MdQSH', 'nSV2PAu3cr', 'buHJdye3aB',\n",
       "        'fqaF9oymgE', 'tRkcirqEUl', 'ESgdEcWOYC', '59pcKRZ3h4',\n",
       "        'uj29Mp5aPT', 'jaT0IX5lCj', 'z6F77KsG6V', '7EM6s6qnfG',\n",
       "        'nDP1lNU6xF', 'kDfo9mgdFX', 'SMTCBOk3UZ', 'RUJf3UPYWd',\n",
       "        'kMbEj5wf33', 'mamHCtoRCJ', '85EOmtadKD', 'JfG2hygk9q',\n",
       "        'q3ILwdgUqr', 'hgFGyjWeqL', 'A3IhOrFFEJ', 'VRFsIcnrSW',\n",
       "        'zhpeKVAo4Z', 'VcL6CvFxAg', 'AJmPWoiEEJ', 'aIoyi1RlfN'],\n",
       "       dtype=object), (300,))"
      ]
     },
     "execution_count": 29,
     "metadata": {},
     "output_type": "execute_result"
    }
   ],
   "source": [
    "movies_list = df['objectID'].values\n",
    "movies_list, movies_list.shape"
   ]
  },
  {
   "cell_type": "code",
   "execution_count": 30,
   "metadata": {},
   "outputs": [
    {
     "data": {
      "text/plain": [
       "293"
      ]
     },
     "execution_count": 30,
     "metadata": {},
     "output_type": "execute_result"
    }
   ],
   "source": [
    "movie_idx = np.where(movies_list == 'hgFGyjWeqL')[0][0]\n",
    "movie_idx"
   ]
  },
  {
   "cell_type": "code",
   "execution_count": 31,
   "metadata": {},
   "outputs": [
    {
     "data": {
      "text/plain": [
       "array([0.04436607, 0.        , 0.        , 0.        , 0.        ,\n",
       "       0.        , 0.11105727, 0.        , 0.        , 0.        ,\n",
       "       0.05346409, 0.08911444, 0.04721582, 0.        , 0.03699367,\n",
       "       0.        , 0.        , 0.08742843, 0.        , 0.04137212,\n",
       "       0.        , 0.09743492, 0.02813608, 0.04342724, 0.09731969,\n",
       "       0.        , 0.        , 0.03438401, 0.        , 0.        ,\n",
       "       0.        , 0.06868949, 0.03810832, 0.08055643, 0.07645631,\n",
       "       0.        , 0.        , 0.        , 0.        , 0.        ,\n",
       "       0.        , 0.        , 0.        , 0.06937478, 0.0862038 ,\n",
       "       0.        , 0.09765571, 0.0648585 , 0.04947483, 0.07703283,\n",
       "       0.02494847, 0.        , 0.05885204, 0.0568961 , 0.03795653,\n",
       "       0.        , 0.        , 0.15244301, 0.        , 0.07627417,\n",
       "       0.01665454, 0.02728139, 0.03967163, 0.2081278 , 0.        ,\n",
       "       0.14054172, 0.07477449, 0.13332353, 0.        , 0.        ,\n",
       "       0.03502361, 0.04310953, 0.07488064, 0.        , 0.        ,\n",
       "       0.        , 0.13733219, 0.        , 0.        , 0.08196967,\n",
       "       0.        , 0.        , 0.02281935, 0.        , 0.        ,\n",
       "       0.18194082, 0.04204042, 0.        , 0.        , 0.        ,\n",
       "       0.02823317, 0.0187932 , 0.03140223, 0.01635155, 0.05839938,\n",
       "       0.0759506 , 0.        , 0.08165211, 0.0956456 , 0.        ,\n",
       "       0.08851071, 0.        , 0.        , 0.        , 0.        ,\n",
       "       0.        , 0.04720555, 0.        , 0.        , 0.03127908,\n",
       "       0.        , 0.        , 0.04357399, 0.        , 0.        ,\n",
       "       0.        , 0.        , 0.        , 0.        , 0.        ,\n",
       "       0.05490758, 0.        , 0.05773189, 0.04249791, 0.08089337,\n",
       "       0.        , 0.        , 0.0704924 , 0.01523773, 0.01628149,\n",
       "       0.        , 0.        , 0.        , 0.02870179, 0.        ,\n",
       "       0.        , 0.01216011, 0.        , 0.        , 0.08438403,\n",
       "       0.09054099, 0.08673857, 0.        , 0.01631889, 0.        ,\n",
       "       0.09297067, 0.        , 0.        , 0.02938736, 0.05024106,\n",
       "       0.        , 0.07243488, 0.02508335, 0.        , 0.        ,\n",
       "       0.07383971, 0.        , 0.        , 0.01144994, 0.11881136,\n",
       "       0.05033202, 0.05268256, 0.13738013, 0.        , 0.        ,\n",
       "       0.08555188, 0.        , 0.12467532, 0.        , 0.        ,\n",
       "       0.        , 0.06068988, 0.        , 0.        , 0.05318036,\n",
       "       0.        , 0.30365977, 0.04591229, 0.03949006, 0.02010002,\n",
       "       0.03378937, 0.        , 0.07715143, 0.02292182, 0.03454764,\n",
       "       0.        , 0.11042479, 0.        , 0.04110717, 0.14479832,\n",
       "       0.03106374, 0.        , 0.16537166, 0.        , 0.        ,\n",
       "       0.01664912, 0.0786062 , 0.04373661, 0.04136597, 0.        ,\n",
       "       0.04200218, 0.05379851, 0.08925184, 0.        , 0.04375406,\n",
       "       0.        , 0.        , 0.04762269, 0.02639077, 0.05305199,\n",
       "       0.03118366, 0.        , 0.        , 0.02169549, 0.        ,\n",
       "       0.        , 0.04121025, 0.        , 0.04057106, 0.09484735,\n",
       "       0.13251528, 0.06269107, 0.02588815, 0.02732761, 0.01686397,\n",
       "       0.05065305, 0.        , 0.03175379, 0.        , 0.        ,\n",
       "       0.02770563, 0.        , 0.04530353, 0.        , 0.        ,\n",
       "       0.        , 0.03818622, 0.15219825, 0.        , 0.        ,\n",
       "       0.        , 0.        , 0.21152376, 0.03785625, 0.03912954,\n",
       "       0.05406211, 0.07286881, 0.02559336, 0.        , 0.03463466,\n",
       "       0.        , 0.05887536, 0.        , 0.04292514, 0.13008846,\n",
       "       0.        , 0.0751608 , 0.03509104, 0.        , 0.05431315,\n",
       "       0.        , 0.        , 0.04232908, 0.        , 0.04030228,\n",
       "       0.        , 0.        , 0.        , 0.01304454, 0.02586933,\n",
       "       0.        , 0.        , 0.04494529, 0.        , 0.02360627,\n",
       "       0.        , 0.07746502, 0.        , 0.        , 0.        ,\n",
       "       0.01977877, 0.        , 0.        , 0.04190806, 0.04164811,\n",
       "       0.        , 0.07753991, 0.06528465, 0.08280917, 0.        ,\n",
       "       0.03704267, 0.04549218, 0.        , 1.        , 0.04822581,\n",
       "       0.06535872, 0.0842153 , 0.02865317, 0.03266022, 0.01541617])"
      ]
     },
     "execution_count": 31,
     "metadata": {},
     "output_type": "execute_result"
    }
   ],
   "source": [
    "movie_similarities = doc_sim_df.iloc[movie_idx].values\n",
    "movie_similarities"
   ]
  },
  {
   "cell_type": "code",
   "execution_count": 32,
   "metadata": {},
   "outputs": [
    {
     "data": {
      "text/plain": [
       "array([176, 242,  63,  85, 192])"
      ]
     },
     "execution_count": 32,
     "metadata": {},
     "output_type": "execute_result"
    }
   ],
   "source": [
    "similar_movie_idxs = np.argsort(-movie_similarities)[1:6]\n",
    "similar_movie_idxs"
   ]
  },
  {
   "cell_type": "code",
   "execution_count": 33,
   "metadata": {},
   "outputs": [
    {
     "data": {
      "text/plain": [
       "array(['12raWayhMP', 'hjV9DZapBC', 'tMDC5qloAO', 'eS12AdiXmT',\n",
       "       '71nlOrTVRZ'], dtype=object)"
      ]
     },
     "execution_count": 33,
     "metadata": {},
     "output_type": "execute_result"
    }
   ],
   "source": [
    "similar_movies = movies_list[similar_movie_idxs]\n",
    "similar_movies"
   ]
  },
  {
   "cell_type": "code",
   "execution_count": 35,
   "metadata": {},
   "outputs": [
    {
     "name": "stdout",
     "output_type": "stream",
     "text": [
      "Hey there 👋🏼💕 This post is for all my ladies! Focus on your goals. Get that money. Respect yourself & humble stunt on EVERYONE. XO’s Happy Hump Day 🙌🏼\n"
     ]
    }
   ],
   "source": [
    "print((df.loc[df['objectID'] == \"hgFGyjWeqL\"]['text']).values[0])"
   ]
  },
  {
   "cell_type": "code",
   "execution_count": 37,
   "metadata": {},
   "outputs": [
    {
     "name": "stdout",
     "output_type": "stream",
     "text": [
      "If you aren’t selling something than you are not in business. Post your offers in the marketplace “buy & sell” and make that money. \n"
     ]
    }
   ],
   "source": [
    "print((df.loc[df['objectID'] == \"hjV9DZapBC\"]['text']).values[0])"
   ]
  },
  {
   "cell_type": "code",
   "execution_count": null,
   "metadata": {},
   "outputs": [],
   "source": []
  }
 ],
 "metadata": {
  "kernelspec": {
   "display_name": "Python 3",
   "language": "python",
   "name": "python3"
  },
  "language_info": {
   "codemirror_mode": {
    "name": "ipython",
    "version": 3
   },
   "file_extension": ".py",
   "mimetype": "text/x-python",
   "name": "python",
   "nbconvert_exporter": "python",
   "pygments_lexer": "ipython3",
   "version": "3.7.3"
  }
 },
 "nbformat": 4,
 "nbformat_minor": 2
}
